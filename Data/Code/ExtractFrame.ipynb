{
 "cells": [
  {
   "cell_type": "code",
   "execution_count": 2,
   "metadata": {},
   "outputs": [
    {
     "name": "stdout",
     "output_type": "stream",
     "text": [
      "Saved ../frames/time_1/frame_000.jpg at time 3378.00 seconds\n",
      "Saved ../frames/time_1/frame_001.jpg at time 3386.00 seconds\n",
      "Saved ../frames/time_1/frame_002.jpg at time 3394.00 seconds\n",
      "Saved ../frames/time_1/frame_003.jpg at time 3402.00 seconds\n",
      "Saved ../frames/time_1/frame_004.jpg at time 3410.00 seconds\n",
      "Saved ../frames/time_1/frame_005.jpg at time 3418.00 seconds\n",
      "Saved ../frames/time_1/frame_006.jpg at time 3426.00 seconds\n",
      "Saved ../frames/time_1/frame_007.jpg at time 3434.00 seconds\n",
      "Saved ../frames/time_1/frame_008.jpg at time 3442.00 seconds\n",
      "Saved ../frames/time_1/frame_009.jpg at time 3450.00 seconds\n",
      "Saved ../frames/time_1/frame_010.jpg at time 3458.00 seconds\n",
      "Saved ../frames/time_1/frame_011.jpg at time 3466.00 seconds\n",
      "Saved ../frames/time_1/frame_012.jpg at time 3474.00 seconds\n",
      "Saved ../frames/time_1/frame_013.jpg at time 3482.00 seconds\n",
      "Saved ../frames/time_1/frame_014.jpg at time 3490.00 seconds\n",
      "Saved ../frames/time_1/frame_015.jpg at time 3498.00 seconds\n"
     ]
    }
   ],
   "source": [
    "import cv2\n",
    "\n",
    "# Open the video file\n",
    "video_path = '..\\TruckVideo.mp4'\n",
    "cap = cv2.VideoCapture(video_path)\n",
    "\n",
    "# Specify the start time and end time for the desired part of the video\n",
    "start_time = 4 * 360 + 32 * 60  + 18# 5 minutes (300 seconds)\n",
    "end_time = 4 * 360 + 34 * 60  + 20 # 10 minutes (600 seconds)\n",
    "\n",
    "# Seek to the start time\n",
    "cap.set(cv2.CAP_PROP_POS_MSEC, start_time * 1000)\n",
    "\n",
    "# Loop through the desired part of the video and extract frames every 8 seconds\n",
    "frame_interval = 8  # seconds\n",
    "frame_time = start_time\n",
    "frame_count = 0\n",
    "\n",
    "while frame_time <= end_time:\n",
    "    # Read the frame\n",
    "    ret, frame = cap.read()\n",
    "    if not ret:\n",
    "        break\n",
    "\n",
    "    # Save the frame to a file\n",
    "    frame_filename = f'../frames/time_1/frame_{frame_count:03d}.jpg'\n",
    "    cv2.imshow('ggg', frame)\n",
    "    cv2.imwrite(frame_filename, frame)\n",
    "\n",
    "    # Display some feedback\n",
    "    print(f'Saved {frame_filename} at time {frame_time:.2f} seconds')\n",
    "\n",
    "    # Increment the frame count and time\n",
    "    frame_count += 1\n",
    "    frame_time += frame_interval\n",
    "\n",
    "    # Move the video pointer to the next desired frame\n",
    "    cap.set(cv2.CAP_PROP_POS_MSEC, frame_time * 1000)\n",
    "\n",
    "# Release the video capture\n",
    "cap.release()\n",
    "cv2.destroyAllWindows()"
   ]
  },
  {
   "cell_type": "code",
   "execution_count": null,
   "metadata": {},
   "outputs": [],
   "source": []
  }
 ],
 "metadata": {
  "kernelspec": {
   "display_name": "DataVenv",
   "language": "python",
   "name": "python3"
  },
  "language_info": {
   "codemirror_mode": {
    "name": "ipython",
    "version": 3
   },
   "file_extension": ".py",
   "mimetype": "text/x-python",
   "name": "python",
   "nbconvert_exporter": "python",
   "pygments_lexer": "ipython3",
   "version": "3.10.11"
  },
  "orig_nbformat": 4
 },
 "nbformat": 4,
 "nbformat_minor": 2
}
